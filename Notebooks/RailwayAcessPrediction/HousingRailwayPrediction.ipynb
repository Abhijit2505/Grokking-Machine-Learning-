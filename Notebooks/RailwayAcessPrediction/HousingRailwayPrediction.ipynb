{
 "cells": [
  {
   "cell_type": "code",
   "execution_count": 3,
   "source": [
    "import numpy as np # linear algebra\r\n",
    "import pandas as pd # data processing, CSV file I/O (e.g. pd.read_csv)\r\n",
    "import seaborn as sns\r\n",
    "import matplotlib.pyplot  as plt\r\n",
    "from sklearn.ensemble import  RandomForestClassifier\r\n",
    "from sklearn.svm import SVC\r\n",
    "from sklearn import svm\r\n",
    "from sklearn.neural_network import MLPClassifier\r\n",
    "from sklearn.metrics import confusion_matrix, classification_report\r\n",
    "from sklearn.preprocessing import StandardScaler, LabelEncoder\r\n",
    "from sklearn.model_selection import train_test_split\r\n",
    "%matplotlib inline\r\n"
   ],
   "outputs": [],
   "metadata": {
    "execution": {
     "iopub.execute_input": "2021-08-27T17:17:19.056775Z",
     "iopub.status.busy": "2021-08-27T17:17:19.056064Z",
     "iopub.status.idle": "2021-08-27T17:17:20.358612Z",
     "shell.execute_reply": "2021-08-27T17:17:20.358062Z",
     "shell.execute_reply.started": "2021-08-27T16:58:21.357674Z"
    },
    "papermill": {
     "duration": 1.337115,
     "end_time": "2021-08-27T17:17:20.358758",
     "exception": false,
     "start_time": "2021-08-27T17:17:19.021643",
     "status": "completed"
    },
    "tags": []
   }
  },
  {
   "cell_type": "code",
   "execution_count": 4,
   "source": [
    "house=pd.read_csv(HousingData.csv)\r\n",
    "house.head()\r\n"
   ],
   "outputs": [
    {
     "output_type": "execute_result",
     "data": {
      "text/html": [
       "<div>\n",
       "<style scoped>\n",
       "    .dataframe tbody tr th:only-of-type {\n",
       "        vertical-align: middle;\n",
       "    }\n",
       "\n",
       "    .dataframe tbody tr th {\n",
       "        vertical-align: top;\n",
       "    }\n",
       "\n",
       "    .dataframe thead th {\n",
       "        text-align: right;\n",
       "    }\n",
       "</style>\n",
       "<table border=\"1\" class=\"dataframe\">\n",
       "  <thead>\n",
       "    <tr style=\"text-align: right;\">\n",
       "      <th></th>\n",
       "      <th>CRIM</th>\n",
       "      <th>ZN</th>\n",
       "      <th>INDUS</th>\n",
       "      <th>CHAS</th>\n",
       "      <th>NOX</th>\n",
       "      <th>RM</th>\n",
       "      <th>AGE</th>\n",
       "      <th>DIS</th>\n",
       "      <th>RAD</th>\n",
       "      <th>TAX</th>\n",
       "      <th>PTRATIO</th>\n",
       "      <th>B</th>\n",
       "      <th>LSTAT</th>\n",
       "      <th>MEDV</th>\n",
       "    </tr>\n",
       "  </thead>\n",
       "  <tbody>\n",
       "    <tr>\n",
       "      <th>0</th>\n",
       "      <td>0.00632</td>\n",
       "      <td>18.0</td>\n",
       "      <td>2.31</td>\n",
       "      <td>0.0</td>\n",
       "      <td>0.538</td>\n",
       "      <td>6.575</td>\n",
       "      <td>65.2</td>\n",
       "      <td>4.0900</td>\n",
       "      <td>1</td>\n",
       "      <td>296</td>\n",
       "      <td>15.3</td>\n",
       "      <td>396.90</td>\n",
       "      <td>4.98</td>\n",
       "      <td>24.0</td>\n",
       "    </tr>\n",
       "    <tr>\n",
       "      <th>1</th>\n",
       "      <td>0.02731</td>\n",
       "      <td>0.0</td>\n",
       "      <td>7.07</td>\n",
       "      <td>0.0</td>\n",
       "      <td>0.469</td>\n",
       "      <td>6.421</td>\n",
       "      <td>78.9</td>\n",
       "      <td>4.9671</td>\n",
       "      <td>2</td>\n",
       "      <td>242</td>\n",
       "      <td>17.8</td>\n",
       "      <td>396.90</td>\n",
       "      <td>9.14</td>\n",
       "      <td>21.6</td>\n",
       "    </tr>\n",
       "    <tr>\n",
       "      <th>2</th>\n",
       "      <td>0.02729</td>\n",
       "      <td>0.0</td>\n",
       "      <td>7.07</td>\n",
       "      <td>0.0</td>\n",
       "      <td>0.469</td>\n",
       "      <td>7.185</td>\n",
       "      <td>61.1</td>\n",
       "      <td>4.9671</td>\n",
       "      <td>2</td>\n",
       "      <td>242</td>\n",
       "      <td>17.8</td>\n",
       "      <td>392.83</td>\n",
       "      <td>4.03</td>\n",
       "      <td>34.7</td>\n",
       "    </tr>\n",
       "    <tr>\n",
       "      <th>3</th>\n",
       "      <td>0.03237</td>\n",
       "      <td>0.0</td>\n",
       "      <td>2.18</td>\n",
       "      <td>0.0</td>\n",
       "      <td>0.458</td>\n",
       "      <td>6.998</td>\n",
       "      <td>45.8</td>\n",
       "      <td>6.0622</td>\n",
       "      <td>3</td>\n",
       "      <td>222</td>\n",
       "      <td>18.7</td>\n",
       "      <td>394.63</td>\n",
       "      <td>2.94</td>\n",
       "      <td>33.4</td>\n",
       "    </tr>\n",
       "    <tr>\n",
       "      <th>4</th>\n",
       "      <td>0.06905</td>\n",
       "      <td>0.0</td>\n",
       "      <td>2.18</td>\n",
       "      <td>0.0</td>\n",
       "      <td>0.458</td>\n",
       "      <td>7.147</td>\n",
       "      <td>54.2</td>\n",
       "      <td>6.0622</td>\n",
       "      <td>3</td>\n",
       "      <td>222</td>\n",
       "      <td>18.7</td>\n",
       "      <td>396.90</td>\n",
       "      <td>NaN</td>\n",
       "      <td>36.2</td>\n",
       "    </tr>\n",
       "  </tbody>\n",
       "</table>\n",
       "</div>"
      ],
      "text/plain": [
       "      CRIM    ZN  INDUS  CHAS    NOX     RM   AGE     DIS  RAD  TAX  PTRATIO  \\\n",
       "0  0.00632  18.0   2.31   0.0  0.538  6.575  65.2  4.0900    1  296     15.3   \n",
       "1  0.02731   0.0   7.07   0.0  0.469  6.421  78.9  4.9671    2  242     17.8   \n",
       "2  0.02729   0.0   7.07   0.0  0.469  7.185  61.1  4.9671    2  242     17.8   \n",
       "3  0.03237   0.0   2.18   0.0  0.458  6.998  45.8  6.0622    3  222     18.7   \n",
       "4  0.06905   0.0   2.18   0.0  0.458  7.147  54.2  6.0622    3  222     18.7   \n",
       "\n",
       "        B  LSTAT  MEDV  \n",
       "0  396.90   4.98  24.0  \n",
       "1  396.90   9.14  21.6  \n",
       "2  392.83   4.03  34.7  \n",
       "3  394.63   2.94  33.4  \n",
       "4  396.90    NaN  36.2  "
      ]
     },
     "metadata": {},
     "execution_count": 4
    }
   ],
   "metadata": {
    "execution": {
     "iopub.execute_input": "2021-08-27T17:17:20.417486Z",
     "iopub.status.busy": "2021-08-27T17:17:20.416853Z",
     "iopub.status.idle": "2021-08-27T17:17:20.460560Z",
     "shell.execute_reply": "2021-08-27T17:17:20.461044Z",
     "shell.execute_reply.started": "2021-08-27T16:58:21.370289Z"
    },
    "papermill": {
     "duration": 0.075574,
     "end_time": "2021-08-27T17:17:20.461207",
     "exception": false,
     "start_time": "2021-08-27T17:17:20.385633",
     "status": "completed"
    },
    "tags": []
   }
  },
  {
   "cell_type": "markdown",
   "source": [
    "### Context\n",
    "\n",
    "Each record in the database describes a Boston suburb or town. The data was drawn from the Boston Standard Metropolitan Statistical Area (SMSA) in 1970. The attributes are deﬁned as follows (taken from the UCI Machine Learning Repository1): \n",
    "\n",
    "CRIM: per capita crime rate by town\n",
    "\n",
    "ZN: proportion of residential land zoned for lots over 25,000 sq.ft.\n",
    "\n",
    "INDUS: proportion of non-retail business acres per town\n",
    "\n",
    "CHAS: Charles River dummy variable (= 1 if tract bounds river; 0 otherwise)\n",
    "\n",
    "NOX: nitric oxides concentration (parts per 10 million)\n",
    "\n",
    "RM: average number of rooms per dwelling\n",
    "\n",
    "AGE: proportion of owner-occupied units built prior to 1940\n",
    "\n",
    "DIS: weighted distances to ﬁve Boston employment centers\n",
    "\n",
    "RAD: index of accessibility to radial highways\n",
    "\n",
    "TAX: full-value property-tax rate per 10,000\n",
    "\n",
    "PTRATIO: pupil-teacher ratio by town \n",
    "\n",
    "B: 1000(Bk−0.63)2 where Bk is the proportion of blacks by town \n",
    "\n",
    "LSTAT: % lower status of the population\n",
    "\n",
    "MEDV: Median value of owner-occupied homes in 1000s\n",
    "\n",
    "We can see that the input attributes have a mixture of units."
   ],
   "metadata": {
    "papermill": {
     "duration": 0.027277,
     "end_time": "2021-08-27T17:17:20.515939",
     "exception": false,
     "start_time": "2021-08-27T17:17:20.488662",
     "status": "completed"
    },
    "tags": []
   }
  },
  {
   "cell_type": "code",
   "execution_count": 5,
   "source": [
    "house.info()\n"
   ],
   "outputs": [
    {
     "output_type": "stream",
     "name": "stdout",
     "text": [
      "<class 'pandas.core.frame.DataFrame'>\n",
      "RangeIndex: 506 entries, 0 to 505\n",
      "Data columns (total 14 columns):\n",
      " #   Column   Non-Null Count  Dtype  \n",
      "---  ------   --------------  -----  \n",
      " 0   CRIM     486 non-null    float64\n",
      " 1   ZN       486 non-null    float64\n",
      " 2   INDUS    486 non-null    float64\n",
      " 3   CHAS     486 non-null    float64\n",
      " 4   NOX      506 non-null    float64\n",
      " 5   RM       506 non-null    float64\n",
      " 6   AGE      486 non-null    float64\n",
      " 7   DIS      506 non-null    float64\n",
      " 8   RAD      506 non-null    int64  \n",
      " 9   TAX      506 non-null    int64  \n",
      " 10  PTRATIO  506 non-null    float64\n",
      " 11  B        506 non-null    float64\n",
      " 12  LSTAT    486 non-null    float64\n",
      " 13  MEDV     506 non-null    float64\n",
      "dtypes: float64(12), int64(2)\n",
      "memory usage: 55.5 KB\n"
     ]
    }
   ],
   "metadata": {
    "execution": {
     "iopub.execute_input": "2021-08-27T17:17:20.590434Z",
     "iopub.status.busy": "2021-08-27T17:17:20.589723Z",
     "iopub.status.idle": "2021-08-27T17:17:20.593213Z",
     "shell.execute_reply": "2021-08-27T17:17:20.593856Z",
     "shell.execute_reply.started": "2021-08-27T16:58:21.406582Z"
    },
    "papermill": {
     "duration": 0.049885,
     "end_time": "2021-08-27T17:17:20.594079",
     "exception": false,
     "start_time": "2021-08-27T17:17:20.544194",
     "status": "completed"
    },
    "tags": []
   }
  },
  {
   "cell_type": "code",
   "execution_count": 6,
   "source": [
    "(house.isnull()).sum()"
   ],
   "outputs": [
    {
     "output_type": "execute_result",
     "data": {
      "text/plain": [
       "CRIM       20\n",
       "ZN         20\n",
       "INDUS      20\n",
       "CHAS       20\n",
       "NOX         0\n",
       "RM          0\n",
       "AGE        20\n",
       "DIS         0\n",
       "RAD         0\n",
       "TAX         0\n",
       "PTRATIO     0\n",
       "B           0\n",
       "LSTAT      20\n",
       "MEDV        0\n",
       "dtype: int64"
      ]
     },
     "metadata": {},
     "execution_count": 6
    }
   ],
   "metadata": {
    "execution": {
     "iopub.execute_input": "2021-08-27T17:17:20.658405Z",
     "iopub.status.busy": "2021-08-27T17:17:20.657485Z",
     "iopub.status.idle": "2021-08-27T17:17:20.661694Z",
     "shell.execute_reply": "2021-08-27T17:17:20.661085Z",
     "shell.execute_reply.started": "2021-08-27T16:58:21.423171Z"
    },
    "papermill": {
     "duration": 0.038881,
     "end_time": "2021-08-27T17:17:20.661837",
     "exception": false,
     "start_time": "2021-08-27T17:17:20.622956",
     "status": "completed"
    },
    "tags": []
   }
  },
  {
   "cell_type": "code",
   "execution_count": 7,
   "source": [
    "(house==0).sum()"
   ],
   "outputs": [
    {
     "output_type": "execute_result",
     "data": {
      "text/plain": [
       "CRIM         0\n",
       "ZN         360\n",
       "INDUS        0\n",
       "CHAS       452\n",
       "NOX          0\n",
       "RM           0\n",
       "AGE          0\n",
       "DIS          0\n",
       "RAD          0\n",
       "TAX          0\n",
       "PTRATIO      0\n",
       "B            0\n",
       "LSTAT        0\n",
       "MEDV         0\n",
       "dtype: int64"
      ]
     },
     "metadata": {},
     "execution_count": 7
    }
   ],
   "metadata": {
    "execution": {
     "iopub.execute_input": "2021-08-27T17:17:20.724719Z",
     "iopub.status.busy": "2021-08-27T17:17:20.724016Z",
     "iopub.status.idle": "2021-08-27T17:17:20.744959Z",
     "shell.execute_reply": "2021-08-27T17:17:20.745428Z",
     "shell.execute_reply.started": "2021-08-27T16:58:21.443237Z"
    },
    "papermill": {
     "duration": 0.054266,
     "end_time": "2021-08-27T17:17:20.745637",
     "exception": false,
     "start_time": "2021-08-27T17:17:20.691371",
     "status": "completed"
    },
    "tags": []
   }
  },
  {
   "cell_type": "code",
   "execution_count": 8,
   "source": [
    "print(house[\"ZN\"],house[\"CHAS\"])"
   ],
   "outputs": [
    {
     "output_type": "stream",
     "name": "stdout",
     "text": [
      "0      18.0\n",
      "1       0.0\n",
      "2       0.0\n",
      "3       0.0\n",
      "4       0.0\n",
      "       ... \n",
      "501     0.0\n",
      "502     0.0\n",
      "503     0.0\n",
      "504     0.0\n",
      "505     0.0\n",
      "Name: ZN, Length: 506, dtype: float64 0      0.0\n",
      "1      0.0\n",
      "2      0.0\n",
      "3      0.0\n",
      "4      0.0\n",
      "      ... \n",
      "501    0.0\n",
      "502    0.0\n",
      "503    0.0\n",
      "504    0.0\n",
      "505    0.0\n",
      "Name: CHAS, Length: 506, dtype: float64\n"
     ]
    }
   ],
   "metadata": {
    "execution": {
     "iopub.execute_input": "2021-08-27T17:17:20.806522Z",
     "iopub.status.busy": "2021-08-27T17:17:20.805931Z",
     "iopub.status.idle": "2021-08-27T17:17:20.814457Z",
     "shell.execute_reply": "2021-08-27T17:17:20.815285Z",
     "shell.execute_reply.started": "2021-08-27T16:58:21.461569Z"
    },
    "papermill": {
     "duration": 0.040285,
     "end_time": "2021-08-27T17:17:20.815515",
     "exception": false,
     "start_time": "2021-08-27T17:17:20.775230",
     "status": "completed"
    },
    "tags": []
   }
  },
  {
   "cell_type": "code",
   "execution_count": 9,
   "source": [
    "house.describe()"
   ],
   "outputs": [
    {
     "output_type": "execute_result",
     "data": {
      "text/html": [
       "<div>\n",
       "<style scoped>\n",
       "    .dataframe tbody tr th:only-of-type {\n",
       "        vertical-align: middle;\n",
       "    }\n",
       "\n",
       "    .dataframe tbody tr th {\n",
       "        vertical-align: top;\n",
       "    }\n",
       "\n",
       "    .dataframe thead th {\n",
       "        text-align: right;\n",
       "    }\n",
       "</style>\n",
       "<table border=\"1\" class=\"dataframe\">\n",
       "  <thead>\n",
       "    <tr style=\"text-align: right;\">\n",
       "      <th></th>\n",
       "      <th>CRIM</th>\n",
       "      <th>ZN</th>\n",
       "      <th>INDUS</th>\n",
       "      <th>CHAS</th>\n",
       "      <th>NOX</th>\n",
       "      <th>RM</th>\n",
       "      <th>AGE</th>\n",
       "      <th>DIS</th>\n",
       "      <th>RAD</th>\n",
       "      <th>TAX</th>\n",
       "      <th>PTRATIO</th>\n",
       "      <th>B</th>\n",
       "      <th>LSTAT</th>\n",
       "      <th>MEDV</th>\n",
       "    </tr>\n",
       "  </thead>\n",
       "  <tbody>\n",
       "    <tr>\n",
       "      <th>count</th>\n",
       "      <td>486.000000</td>\n",
       "      <td>486.000000</td>\n",
       "      <td>486.000000</td>\n",
       "      <td>486.000000</td>\n",
       "      <td>506.000000</td>\n",
       "      <td>506.000000</td>\n",
       "      <td>486.000000</td>\n",
       "      <td>506.000000</td>\n",
       "      <td>506.000000</td>\n",
       "      <td>506.000000</td>\n",
       "      <td>506.000000</td>\n",
       "      <td>506.000000</td>\n",
       "      <td>486.000000</td>\n",
       "      <td>506.000000</td>\n",
       "    </tr>\n",
       "    <tr>\n",
       "      <th>mean</th>\n",
       "      <td>3.611874</td>\n",
       "      <td>11.211934</td>\n",
       "      <td>11.083992</td>\n",
       "      <td>0.069959</td>\n",
       "      <td>0.554695</td>\n",
       "      <td>6.284634</td>\n",
       "      <td>68.518519</td>\n",
       "      <td>3.795043</td>\n",
       "      <td>9.549407</td>\n",
       "      <td>408.237154</td>\n",
       "      <td>18.455534</td>\n",
       "      <td>356.674032</td>\n",
       "      <td>12.715432</td>\n",
       "      <td>22.532806</td>\n",
       "    </tr>\n",
       "    <tr>\n",
       "      <th>std</th>\n",
       "      <td>8.720192</td>\n",
       "      <td>23.388876</td>\n",
       "      <td>6.835896</td>\n",
       "      <td>0.255340</td>\n",
       "      <td>0.115878</td>\n",
       "      <td>0.702617</td>\n",
       "      <td>27.999513</td>\n",
       "      <td>2.105710</td>\n",
       "      <td>8.707259</td>\n",
       "      <td>168.537116</td>\n",
       "      <td>2.164946</td>\n",
       "      <td>91.294864</td>\n",
       "      <td>7.155871</td>\n",
       "      <td>9.197104</td>\n",
       "    </tr>\n",
       "    <tr>\n",
       "      <th>min</th>\n",
       "      <td>0.006320</td>\n",
       "      <td>0.000000</td>\n",
       "      <td>0.460000</td>\n",
       "      <td>0.000000</td>\n",
       "      <td>0.385000</td>\n",
       "      <td>3.561000</td>\n",
       "      <td>2.900000</td>\n",
       "      <td>1.129600</td>\n",
       "      <td>1.000000</td>\n",
       "      <td>187.000000</td>\n",
       "      <td>12.600000</td>\n",
       "      <td>0.320000</td>\n",
       "      <td>1.730000</td>\n",
       "      <td>5.000000</td>\n",
       "    </tr>\n",
       "    <tr>\n",
       "      <th>25%</th>\n",
       "      <td>0.081900</td>\n",
       "      <td>0.000000</td>\n",
       "      <td>5.190000</td>\n",
       "      <td>0.000000</td>\n",
       "      <td>0.449000</td>\n",
       "      <td>5.885500</td>\n",
       "      <td>45.175000</td>\n",
       "      <td>2.100175</td>\n",
       "      <td>4.000000</td>\n",
       "      <td>279.000000</td>\n",
       "      <td>17.400000</td>\n",
       "      <td>375.377500</td>\n",
       "      <td>7.125000</td>\n",
       "      <td>17.025000</td>\n",
       "    </tr>\n",
       "    <tr>\n",
       "      <th>50%</th>\n",
       "      <td>0.253715</td>\n",
       "      <td>0.000000</td>\n",
       "      <td>9.690000</td>\n",
       "      <td>0.000000</td>\n",
       "      <td>0.538000</td>\n",
       "      <td>6.208500</td>\n",
       "      <td>76.800000</td>\n",
       "      <td>3.207450</td>\n",
       "      <td>5.000000</td>\n",
       "      <td>330.000000</td>\n",
       "      <td>19.050000</td>\n",
       "      <td>391.440000</td>\n",
       "      <td>11.430000</td>\n",
       "      <td>21.200000</td>\n",
       "    </tr>\n",
       "    <tr>\n",
       "      <th>75%</th>\n",
       "      <td>3.560262</td>\n",
       "      <td>12.500000</td>\n",
       "      <td>18.100000</td>\n",
       "      <td>0.000000</td>\n",
       "      <td>0.624000</td>\n",
       "      <td>6.623500</td>\n",
       "      <td>93.975000</td>\n",
       "      <td>5.188425</td>\n",
       "      <td>24.000000</td>\n",
       "      <td>666.000000</td>\n",
       "      <td>20.200000</td>\n",
       "      <td>396.225000</td>\n",
       "      <td>16.955000</td>\n",
       "      <td>25.000000</td>\n",
       "    </tr>\n",
       "    <tr>\n",
       "      <th>max</th>\n",
       "      <td>88.976200</td>\n",
       "      <td>100.000000</td>\n",
       "      <td>27.740000</td>\n",
       "      <td>1.000000</td>\n",
       "      <td>0.871000</td>\n",
       "      <td>8.780000</td>\n",
       "      <td>100.000000</td>\n",
       "      <td>12.126500</td>\n",
       "      <td>24.000000</td>\n",
       "      <td>711.000000</td>\n",
       "      <td>22.000000</td>\n",
       "      <td>396.900000</td>\n",
       "      <td>37.970000</td>\n",
       "      <td>50.000000</td>\n",
       "    </tr>\n",
       "  </tbody>\n",
       "</table>\n",
       "</div>"
      ],
      "text/plain": [
       "             CRIM          ZN       INDUS        CHAS         NOX          RM  \\\n",
       "count  486.000000  486.000000  486.000000  486.000000  506.000000  506.000000   \n",
       "mean     3.611874   11.211934   11.083992    0.069959    0.554695    6.284634   \n",
       "std      8.720192   23.388876    6.835896    0.255340    0.115878    0.702617   \n",
       "min      0.006320    0.000000    0.460000    0.000000    0.385000    3.561000   \n",
       "25%      0.081900    0.000000    5.190000    0.000000    0.449000    5.885500   \n",
       "50%      0.253715    0.000000    9.690000    0.000000    0.538000    6.208500   \n",
       "75%      3.560262   12.500000   18.100000    0.000000    0.624000    6.623500   \n",
       "max     88.976200  100.000000   27.740000    1.000000    0.871000    8.780000   \n",
       "\n",
       "              AGE         DIS         RAD         TAX     PTRATIO           B  \\\n",
       "count  486.000000  506.000000  506.000000  506.000000  506.000000  506.000000   \n",
       "mean    68.518519    3.795043    9.549407  408.237154   18.455534  356.674032   \n",
       "std     27.999513    2.105710    8.707259  168.537116    2.164946   91.294864   \n",
       "min      2.900000    1.129600    1.000000  187.000000   12.600000    0.320000   \n",
       "25%     45.175000    2.100175    4.000000  279.000000   17.400000  375.377500   \n",
       "50%     76.800000    3.207450    5.000000  330.000000   19.050000  391.440000   \n",
       "75%     93.975000    5.188425   24.000000  666.000000   20.200000  396.225000   \n",
       "max    100.000000   12.126500   24.000000  711.000000   22.000000  396.900000   \n",
       "\n",
       "            LSTAT        MEDV  \n",
       "count  486.000000  506.000000  \n",
       "mean    12.715432   22.532806  \n",
       "std      7.155871    9.197104  \n",
       "min      1.730000    5.000000  \n",
       "25%      7.125000   17.025000  \n",
       "50%     11.430000   21.200000  \n",
       "75%     16.955000   25.000000  \n",
       "max     37.970000   50.000000  "
      ]
     },
     "metadata": {},
     "execution_count": 9
    }
   ],
   "metadata": {
    "execution": {
     "iopub.execute_input": "2021-08-27T17:17:20.877911Z",
     "iopub.status.busy": "2021-08-27T17:17:20.877258Z",
     "iopub.status.idle": "2021-08-27T17:17:20.927418Z",
     "shell.execute_reply": "2021-08-27T17:17:20.927899Z",
     "shell.execute_reply.started": "2021-08-27T16:58:21.478295Z"
    },
    "papermill": {
     "duration": 0.0831,
     "end_time": "2021-08-27T17:17:20.928073",
     "exception": false,
     "start_time": "2021-08-27T17:17:20.844973",
     "status": "completed"
    },
    "tags": []
   }
  },
  {
   "cell_type": "code",
   "execution_count": 10,
   "source": [
    "house = house.dropna()\n",
    "house.isnull().sum()"
   ],
   "outputs": [
    {
     "output_type": "execute_result",
     "data": {
      "text/plain": [
       "CRIM       0\n",
       "ZN         0\n",
       "INDUS      0\n",
       "CHAS       0\n",
       "NOX        0\n",
       "RM         0\n",
       "AGE        0\n",
       "DIS        0\n",
       "RAD        0\n",
       "TAX        0\n",
       "PTRATIO    0\n",
       "B          0\n",
       "LSTAT      0\n",
       "MEDV       0\n",
       "dtype: int64"
      ]
     },
     "metadata": {},
     "execution_count": 10
    }
   ],
   "metadata": {
    "execution": {
     "iopub.execute_input": "2021-08-27T17:17:20.999578Z",
     "iopub.status.busy": "2021-08-27T17:17:20.998637Z",
     "iopub.status.idle": "2021-08-27T17:17:21.002914Z",
     "shell.execute_reply": "2021-08-27T17:17:21.002372Z",
     "shell.execute_reply.started": "2021-08-27T16:58:21.535332Z"
    },
    "papermill": {
     "duration": 0.045538,
     "end_time": "2021-08-27T17:17:21.003051",
     "exception": false,
     "start_time": "2021-08-27T17:17:20.957513",
     "status": "completed"
    },
    "tags": []
   }
  },
  {
   "cell_type": "markdown",
   "source": [
    "### Analysisng the RAD - Railway acess index column"
   ],
   "metadata": {
    "papermill": {
     "duration": 0.030168,
     "end_time": "2021-08-27T17:17:21.063443",
     "exception": false,
     "start_time": "2021-08-27T17:17:21.033275",
     "status": "completed"
    },
    "tags": []
   }
  },
  {
   "cell_type": "code",
   "execution_count": 11,
   "source": [
    "house.RAD.unique()"
   ],
   "outputs": [
    {
     "output_type": "execute_result",
     "data": {
      "text/plain": [
       "array([ 1,  2,  3,  5,  4,  8,  6,  7, 24])"
      ]
     },
     "metadata": {},
     "execution_count": 11
    }
   ],
   "metadata": {
    "execution": {
     "iopub.execute_input": "2021-08-27T17:17:21.126518Z",
     "iopub.status.busy": "2021-08-27T17:17:21.125863Z",
     "iopub.status.idle": "2021-08-27T17:17:21.133648Z",
     "shell.execute_reply": "2021-08-27T17:17:21.133102Z",
     "shell.execute_reply.started": "2021-08-27T16:58:21.548993Z"
    },
    "papermill": {
     "duration": 0.040384,
     "end_time": "2021-08-27T17:17:21.133790",
     "exception": false,
     "start_time": "2021-08-27T17:17:21.093406",
     "status": "completed"
    },
    "tags": []
   }
  },
  {
   "cell_type": "code",
   "execution_count": 12,
   "source": [
    "house.RAD.value_counts()"
   ],
   "outputs": [
    {
     "output_type": "execute_result",
     "data": {
      "text/plain": [
       "24    100\n",
       "4      91\n",
       "5      90\n",
       "3      31\n",
       "2      21\n",
       "8      19\n",
       "6      18\n",
       "1      12\n",
       "7      12\n",
       "Name: RAD, dtype: int64"
      ]
     },
     "metadata": {},
     "execution_count": 12
    }
   ],
   "metadata": {
    "execution": {
     "iopub.execute_input": "2021-08-27T17:17:21.201793Z",
     "iopub.status.busy": "2021-08-27T17:17:21.200899Z",
     "iopub.status.idle": "2021-08-27T17:17:21.204820Z",
     "shell.execute_reply": "2021-08-27T17:17:21.204284Z",
     "shell.execute_reply.started": "2021-08-27T16:58:21.564901Z"
    },
    "papermill": {
     "duration": 0.041067,
     "end_time": "2021-08-27T17:17:21.204955",
     "exception": false,
     "start_time": "2021-08-27T17:17:21.163888",
     "status": "completed"
    },
    "tags": []
   }
  },
  {
   "cell_type": "code",
   "execution_count": 13,
   "source": [
    "sns.countplot(house.RAD)"
   ],
   "outputs": [
    {
     "output_type": "stream",
     "name": "stderr",
     "text": [
      "/opt/conda/lib/python3.7/site-packages/seaborn/_decorators.py:43: FutureWarning: Pass the following variable as a keyword arg: x. From version 0.12, the only valid positional argument will be `data`, and passing other arguments without an explicit keyword will result in an error or misinterpretation.\n",
      "  FutureWarning\n"
     ]
    },
    {
     "output_type": "execute_result",
     "data": {
      "text/plain": [
       "<AxesSubplot:xlabel='RAD', ylabel='count'>"
      ]
     },
     "metadata": {},
     "execution_count": 13
    },
    {
     "output_type": "display_data",
     "data": {
      "image/png": "[encoded data removed]",
      "text/plain": [
       "<Figure size 432x288 with 1 Axes>"
      ]
     },
     "metadata": {
      "needs_background": "light"
     }
    }
   ],
   "metadata": {
    "execution": {
     "iopub.execute_input": "2021-08-27T17:17:21.270210Z",
     "iopub.status.busy": "2021-08-27T17:17:21.269554Z",
     "iopub.status.idle": "2021-08-27T17:17:21.479594Z",
     "shell.execute_reply": "2021-08-27T17:17:21.479051Z",
     "shell.execute_reply.started": "2021-08-27T16:58:21.582581Z"
    },
    "papermill": {
     "duration": 0.244402,
     "end_time": "2021-08-27T17:17:21.479734",
     "exception": false,
     "start_time": "2021-08-27T17:17:21.235332",
     "status": "completed"
    },
    "tags": []
   }
  },
  {
   "cell_type": "code",
   "execution_count": 14,
   "source": [
    "bins=(0,4,25)\n",
    "group_names=[\"bad_railway_acess\" , \"good_railway_acess\"]\n",
    "house[\"Railway_Index\"]=pd.cut(house.RAD , bins=bins,labels=group_names)\n",
    "house[\"Railway_Index\"]"
   ],
   "outputs": [
    {
     "output_type": "execute_result",
     "data": {
      "text/plain": [
       "0       bad_railway_acess\n",
       "1       bad_railway_acess\n",
       "2       bad_railway_acess\n",
       "3       bad_railway_acess\n",
       "5       bad_railway_acess\n",
       "              ...        \n",
       "499    good_railway_acess\n",
       "500    good_railway_acess\n",
       "502     bad_railway_acess\n",
       "503     bad_railway_acess\n",
       "504     bad_railway_acess\n",
       "Name: Railway_Index, Length: 394, dtype: category\n",
       "Categories (2, object): ['bad_railway_acess' < 'good_railway_acess']"
      ]
     },
     "metadata": {},
     "execution_count": 14
    }
   ],
   "metadata": {
    "execution": {
     "iopub.execute_input": "2021-08-27T17:17:21.556515Z",
     "iopub.status.busy": "2021-08-27T17:17:21.555630Z",
     "iopub.status.idle": "2021-08-27T17:17:21.559786Z",
     "shell.execute_reply": "2021-08-27T17:17:21.559311Z",
     "shell.execute_reply.started": "2021-08-27T16:58:21.783764Z"
    },
    "papermill": {
     "duration": 0.048392,
     "end_time": "2021-08-27T17:17:21.559952",
     "exception": false,
     "start_time": "2021-08-27T17:17:21.511560",
     "status": "completed"
    },
    "tags": []
   }
  },
  {
   "cell_type": "code",
   "execution_count": 15,
   "source": [
    "label_quality=LabelEncoder()\n",
    "house[\"Railway_Index\"]=label_quality.fit_transform(house[\"Railway_Index\"])\n",
    "house.head(10)"
   ],
   "outputs": [
    {
     "output_type": "execute_result",
     "data": {
      "text/html": [
       "<div>\n",
       "<style scoped>\n",
       "    .dataframe tbody tr th:only-of-type {\n",
       "        vertical-align: middle;\n",
       "    }\n",
       "\n",
       "    .dataframe tbody tr th {\n",
       "        vertical-align: top;\n",
       "    }\n",
       "\n",
       "    .dataframe thead th {\n",
       "        text-align: right;\n",
       "    }\n",
       "</style>\n",
       "<table border=\"1\" class=\"dataframe\">\n",
       "  <thead>\n",
       "    <tr style=\"text-align: right;\">\n",
       "      <th></th>\n",
       "      <th>CRIM</th>\n",
       "      <th>ZN</th>\n",
       "      <th>INDUS</th>\n",
       "      <th>CHAS</th>\n",
       "      <th>NOX</th>\n",
       "      <th>RM</th>\n",
       "      <th>AGE</th>\n",
       "      <th>DIS</th>\n",
       "      <th>RAD</th>\n",
       "      <th>TAX</th>\n",
       "      <th>PTRATIO</th>\n",
       "      <th>B</th>\n",
       "      <th>LSTAT</th>\n",
       "      <th>MEDV</th>\n",
       "      <th>Railway_Index</th>\n",
       "    </tr>\n",
       "  </thead>\n",
       "  <tbody>\n",
       "    <tr>\n",
       "      <th>0</th>\n",
       "      <td>0.00632</td>\n",
       "      <td>18.0</td>\n",
       "      <td>2.31</td>\n",
       "      <td>0.0</td>\n",
       "      <td>0.538</td>\n",
       "      <td>6.575</td>\n",
       "      <td>65.2</td>\n",
       "      <td>4.0900</td>\n",
       "      <td>1</td>\n",
       "      <td>296</td>\n",
       "      <td>15.3</td>\n",
       "      <td>396.90</td>\n",
       "      <td>4.98</td>\n",
       "      <td>24.0</td>\n",
       "      <td>0</td>\n",
       "    </tr>\n",
       "    <tr>\n",
       "      <th>1</th>\n",
       "      <td>0.02731</td>\n",
       "      <td>0.0</td>\n",
       "      <td>7.07</td>\n",
       "      <td>0.0</td>\n",
       "      <td>0.469</td>\n",
       "      <td>6.421</td>\n",
       "      <td>78.9</td>\n",
       "      <td>4.9671</td>\n",
       "      <td>2</td>\n",
       "      <td>242</td>\n",
       "      <td>17.8</td>\n",
       "      <td>396.90</td>\n",
       "      <td>9.14</td>\n",
       "      <td>21.6</td>\n",
       "      <td>0</td>\n",
       "    </tr>\n",
       "    <tr>\n",
       "      <th>2</th>\n",
       "      <td>0.02729</td>\n",
       "      <td>0.0</td>\n",
       "      <td>7.07</td>\n",
       "      <td>0.0</td>\n",
       "      <td>0.469</td>\n",
       "      <td>7.185</td>\n",
       "      <td>61.1</td>\n",
       "      <td>4.9671</td>\n",
       "      <td>2</td>\n",
       "      <td>242</td>\n",
       "      <td>17.8</td>\n",
       "      <td>392.83</td>\n",
       "      <td>4.03</td>\n",
       "      <td>34.7</td>\n",
       "      <td>0</td>\n",
       "    </tr>\n",
       "    <tr>\n",
       "      <th>3</th>\n",
       "      <td>0.03237</td>\n",
       "      <td>0.0</td>\n",
       "      <td>2.18</td>\n",
       "      <td>0.0</td>\n",
       "      <td>0.458</td>\n",
       "      <td>6.998</td>\n",
       "      <td>45.8</td>\n",
       "      <td>6.0622</td>\n",
       "      <td>3</td>\n",
       "      <td>222</td>\n",
       "      <td>18.7</td>\n",
       "      <td>394.63</td>\n",
       "      <td>2.94</td>\n",
       "      <td>33.4</td>\n",
       "      <td>0</td>\n",
       "    </tr>\n",
       "    <tr>\n",
       "      <th>5</th>\n",
       "      <td>0.02985</td>\n",
       "      <td>0.0</td>\n",
       "      <td>2.18</td>\n",
       "      <td>0.0</td>\n",
       "      <td>0.458</td>\n",
       "      <td>6.430</td>\n",
       "      <td>58.7</td>\n",
       "      <td>6.0622</td>\n",
       "      <td>3</td>\n",
       "      <td>222</td>\n",
       "      <td>18.7</td>\n",
       "      <td>394.12</td>\n",
       "      <td>5.21</td>\n",
       "      <td>28.7</td>\n",
       "      <td>0</td>\n",
       "    </tr>\n",
       "    <tr>\n",
       "      <th>7</th>\n",
       "      <td>0.14455</td>\n",
       "      <td>12.5</td>\n",
       "      <td>7.87</td>\n",
       "      <td>0.0</td>\n",
       "      <td>0.524</td>\n",
       "      <td>6.172</td>\n",
       "      <td>96.1</td>\n",
       "      <td>5.9505</td>\n",
       "      <td>5</td>\n",
       "      <td>311</td>\n",
       "      <td>15.2</td>\n",
       "      <td>396.90</td>\n",
       "      <td>19.15</td>\n",
       "      <td>27.1</td>\n",
       "      <td>1</td>\n",
       "    </tr>\n",
       "    <tr>\n",
       "      <th>8</th>\n",
       "      <td>0.21124</td>\n",
       "      <td>12.5</td>\n",
       "      <td>7.87</td>\n",
       "      <td>0.0</td>\n",
       "      <td>0.524</td>\n",
       "      <td>5.631</td>\n",
       "      <td>100.0</td>\n",
       "      <td>6.0821</td>\n",
       "      <td>5</td>\n",
       "      <td>311</td>\n",
       "      <td>15.2</td>\n",
       "      <td>386.63</td>\n",
       "      <td>29.93</td>\n",
       "      <td>16.5</td>\n",
       "      <td>1</td>\n",
       "    </tr>\n",
       "    <tr>\n",
       "      <th>10</th>\n",
       "      <td>0.22489</td>\n",
       "      <td>12.5</td>\n",
       "      <td>7.87</td>\n",
       "      <td>0.0</td>\n",
       "      <td>0.524</td>\n",
       "      <td>6.377</td>\n",
       "      <td>94.3</td>\n",
       "      <td>6.3467</td>\n",
       "      <td>5</td>\n",
       "      <td>311</td>\n",
       "      <td>15.2</td>\n",
       "      <td>392.52</td>\n",
       "      <td>20.45</td>\n",
       "      <td>15.0</td>\n",
       "      <td>1</td>\n",
       "    </tr>\n",
       "    <tr>\n",
       "      <th>11</th>\n",
       "      <td>0.11747</td>\n",
       "      <td>12.5</td>\n",
       "      <td>7.87</td>\n",
       "      <td>0.0</td>\n",
       "      <td>0.524</td>\n",
       "      <td>6.009</td>\n",
       "      <td>82.9</td>\n",
       "      <td>6.2267</td>\n",
       "      <td>5</td>\n",
       "      <td>311</td>\n",
       "      <td>15.2</td>\n",
       "      <td>396.90</td>\n",
       "      <td>13.27</td>\n",
       "      <td>18.9</td>\n",
       "      <td>1</td>\n",
       "    </tr>\n",
       "    <tr>\n",
       "      <th>12</th>\n",
       "      <td>0.09378</td>\n",
       "      <td>12.5</td>\n",
       "      <td>7.87</td>\n",
       "      <td>0.0</td>\n",
       "      <td>0.524</td>\n",
       "      <td>5.889</td>\n",
       "      <td>39.0</td>\n",
       "      <td>5.4509</td>\n",
       "      <td>5</td>\n",
       "      <td>311</td>\n",
       "      <td>15.2</td>\n",
       "      <td>390.50</td>\n",
       "      <td>15.71</td>\n",
       "      <td>21.7</td>\n",
       "      <td>1</td>\n",
       "    </tr>\n",
       "  </tbody>\n",
       "</table>\n",
       "</div>"
      ],
      "text/plain": [
       "       CRIM    ZN  INDUS  CHAS    NOX     RM    AGE     DIS  RAD  TAX  \\\n",
       "0   0.00632  18.0   2.31   0.0  0.538  6.575   65.2  4.0900    1  296   \n",
       "1   0.02731   0.0   7.07   0.0  0.469  6.421   78.9  4.9671    2  242   \n",
       "2   0.02729   0.0   7.07   0.0  0.469  7.185   61.1  4.9671    2  242   \n",
       "3   0.03237   0.0   2.18   0.0  0.458  6.998   45.8  6.0622    3  222   \n",
       "5   0.02985   0.0   2.18   0.0  0.458  6.430   58.7  6.0622    3  222   \n",
       "7   0.14455  12.5   7.87   0.0  0.524  6.172   96.1  5.9505    5  311   \n",
       "8   0.21124  12.5   7.87   0.0  0.524  5.631  100.0  6.0821    5  311   \n",
       "10  0.22489  12.5   7.87   0.0  0.524  6.377   94.3  6.3467    5  311   \n",
       "11  0.11747  12.5   7.87   0.0  0.524  6.009   82.9  6.2267    5  311   \n",
       "12  0.09378  12.5   7.87   0.0  0.524  5.889   39.0  5.4509    5  311   \n",
       "\n",
       "    PTRATIO       B  LSTAT  MEDV  Railway_Index  \n",
       "0      15.3  396.90   4.98  24.0              0  \n",
       "1      17.8  396.90   9.14  21.6              0  \n",
       "2      17.8  392.83   4.03  34.7              0  \n",
       "3      18.7  394.63   2.94  33.4              0  \n",
       "5      18.7  394.12   5.21  28.7              0  \n",
       "7      15.2  396.90  19.15  27.1              1  \n",
       "8      15.2  386.63  29.93  16.5              1  \n",
       "10     15.2  392.52  20.45  15.0              1  \n",
       "11     15.2  396.90  13.27  18.9              1  \n",
       "12     15.2  390.50  15.71  21.7              1  "
      ]
     },
     "metadata": {},
     "execution_count": 15
    }
   ],
   "metadata": {
    "execution": {
     "iopub.execute_input": "2021-08-27T17:17:21.652281Z",
     "iopub.status.busy": "2021-08-27T17:17:21.651276Z",
     "iopub.status.idle": "2021-08-27T17:17:21.657195Z",
     "shell.execute_reply": "2021-08-27T17:17:21.656723Z",
     "shell.execute_reply.started": "2021-08-27T16:58:21.802828Z"
    },
    "papermill": {
     "duration": 0.065398,
     "end_time": "2021-08-27T17:17:21.657367",
     "exception": false,
     "start_time": "2021-08-27T17:17:21.591969",
     "status": "completed"
    },
    "tags": []
   }
  },
  {
   "cell_type": "code",
   "execution_count": 16,
   "source": [
    "sns.countplot(house[\"Railway_Index\"])"
   ],
   "outputs": [
    {
     "output_type": "stream",
     "name": "stderr",
     "text": [
      "/opt/conda/lib/python3.7/site-packages/seaborn/_decorators.py:43: FutureWarning: Pass the following variable as a keyword arg: x. From version 0.12, the only valid positional argument will be `data`, and passing other arguments without an explicit keyword will result in an error or misinterpretation.\n",
      "  FutureWarning\n"
     ]
    },
    {
     "output_type": "execute_result",
     "data": {
      "text/plain": [
       "<AxesSubplot:xlabel='Railway_Index', ylabel='count'>"
      ]
     },
     "metadata": {},
     "execution_count": 16
    },
    {
     "output_type": "display_data",
     "data": {
      "image/png": "[encoded data removed]",
      "text/plain": [
       "<Figure size 432x288 with 1 Axes>"
      ]
     },
     "metadata": {
      "needs_background": "light"
     }
    }
   ],
   "metadata": {
    "execution": {
     "iopub.execute_input": "2021-08-27T17:17:21.731042Z",
     "iopub.status.busy": "2021-08-27T17:17:21.728559Z",
     "iopub.status.idle": "2021-08-27T17:17:21.847836Z",
     "shell.execute_reply": "2021-08-27T17:17:21.847272Z",
     "shell.execute_reply.started": "2021-08-27T16:58:21.841023Z"
    },
    "papermill": {
     "duration": 0.157458,
     "end_time": "2021-08-27T17:17:21.847983",
     "exception": false,
     "start_time": "2021-08-27T17:17:21.690525",
     "status": "completed"
    },
    "tags": []
   }
  },
  {
   "cell_type": "markdown",
   "source": [
    "### Test_and_train"
   ],
   "metadata": {
    "papermill": {
     "duration": 0.034104,
     "end_time": "2021-08-27T17:17:21.916862",
     "exception": false,
     "start_time": "2021-08-27T17:17:21.882758",
     "status": "completed"
    },
    "tags": []
   }
  },
  {
   "cell_type": "code",
   "execution_count": 17,
   "source": [
    "house.astype('int32').dtypes\n",
    "house.head()"
   ],
   "outputs": [
    {
     "output_type": "execute_result",
     "data": {
      "text/html": [
       "<div>\n",
       "<style scoped>\n",
       "    .dataframe tbody tr th:only-of-type {\n",
       "        vertical-align: middle;\n",
       "    }\n",
       "\n",
       "    .dataframe tbody tr th {\n",
       "        vertical-align: top;\n",
       "    }\n",
       "\n",
       "    .dataframe thead th {\n",
       "        text-align: right;\n",
       "    }\n",
       "</style>\n",
       "<table border=\"1\" class=\"dataframe\">\n",
       "  <thead>\n",
       "    <tr style=\"text-align: right;\">\n",
       "      <th></th>\n",
       "      <th>CRIM</th>\n",
       "      <th>ZN</th>\n",
       "      <th>INDUS</th>\n",
       "      <th>CHAS</th>\n",
       "      <th>NOX</th>\n",
       "      <th>RM</th>\n",
       "      <th>AGE</th>\n",
       "      <th>DIS</th>\n",
       "      <th>RAD</th>\n",
       "      <th>TAX</th>\n",
       "      <th>PTRATIO</th>\n",
       "      <th>B</th>\n",
       "      <th>LSTAT</th>\n",
       "      <th>MEDV</th>\n",
       "      <th>Railway_Index</th>\n",
       "    </tr>\n",
       "  </thead>\n",
       "  <tbody>\n",
       "    <tr>\n",
       "      <th>0</th>\n",
       "      <td>0.00632</td>\n",
       "      <td>18.0</td>\n",
       "      <td>2.31</td>\n",
       "      <td>0.0</td>\n",
       "      <td>0.538</td>\n",
       "      <td>6.575</td>\n",
       "      <td>65.2</td>\n",
       "      <td>4.0900</td>\n",
       "      <td>1</td>\n",
       "      <td>296</td>\n",
       "      <td>15.3</td>\n",
       "      <td>396.90</td>\n",
       "      <td>4.98</td>\n",
       "      <td>24.0</td>\n",
       "      <td>0</td>\n",
       "    </tr>\n",
       "    <tr>\n",
       "      <th>1</th>\n",
       "      <td>0.02731</td>\n",
       "      <td>0.0</td>\n",
       "      <td>7.07</td>\n",
       "      <td>0.0</td>\n",
       "      <td>0.469</td>\n",
       "      <td>6.421</td>\n",
       "      <td>78.9</td>\n",
       "      <td>4.9671</td>\n",
       "      <td>2</td>\n",
       "      <td>242</td>\n",
       "      <td>17.8</td>\n",
       "      <td>396.90</td>\n",
       "      <td>9.14</td>\n",
       "      <td>21.6</td>\n",
       "      <td>0</td>\n",
       "    </tr>\n",
       "    <tr>\n",
       "      <th>2</th>\n",
       "      <td>0.02729</td>\n",
       "      <td>0.0</td>\n",
       "      <td>7.07</td>\n",
       "      <td>0.0</td>\n",
       "      <td>0.469</td>\n",
       "      <td>7.185</td>\n",
       "      <td>61.1</td>\n",
       "      <td>4.9671</td>\n",
       "      <td>2</td>\n",
       "      <td>242</td>\n",
       "      <td>17.8</td>\n",
       "      <td>392.83</td>\n",
       "      <td>4.03</td>\n",
       "      <td>34.7</td>\n",
       "      <td>0</td>\n",
       "    </tr>\n",
       "    <tr>\n",
       "      <th>3</th>\n",
       "      <td>0.03237</td>\n",
       "      <td>0.0</td>\n",
       "      <td>2.18</td>\n",
       "      <td>0.0</td>\n",
       "      <td>0.458</td>\n",
       "      <td>6.998</td>\n",
       "      <td>45.8</td>\n",
       "      <td>6.0622</td>\n",
       "      <td>3</td>\n",
       "      <td>222</td>\n",
       "      <td>18.7</td>\n",
       "      <td>394.63</td>\n",
       "      <td>2.94</td>\n",
       "      <td>33.4</td>\n",
       "      <td>0</td>\n",
       "    </tr>\n",
       "    <tr>\n",
       "      <th>5</th>\n",
       "      <td>0.02985</td>\n",
       "      <td>0.0</td>\n",
       "      <td>2.18</td>\n",
       "      <td>0.0</td>\n",
       "      <td>0.458</td>\n",
       "      <td>6.430</td>\n",
       "      <td>58.7</td>\n",
       "      <td>6.0622</td>\n",
       "      <td>3</td>\n",
       "      <td>222</td>\n",
       "      <td>18.7</td>\n",
       "      <td>394.12</td>\n",
       "      <td>5.21</td>\n",
       "      <td>28.7</td>\n",
       "      <td>0</td>\n",
       "    </tr>\n",
       "  </tbody>\n",
       "</table>\n",
       "</div>"
      ],
      "text/plain": [
       "      CRIM    ZN  INDUS  CHAS    NOX     RM   AGE     DIS  RAD  TAX  PTRATIO  \\\n",
       "0  0.00632  18.0   2.31   0.0  0.538  6.575  65.2  4.0900    1  296     15.3   \n",
       "1  0.02731   0.0   7.07   0.0  0.469  6.421  78.9  4.9671    2  242     17.8   \n",
       "2  0.02729   0.0   7.07   0.0  0.469  7.185  61.1  4.9671    2  242     17.8   \n",
       "3  0.03237   0.0   2.18   0.0  0.458  6.998  45.8  6.0622    3  222     18.7   \n",
       "5  0.02985   0.0   2.18   0.0  0.458  6.430  58.7  6.0622    3  222     18.7   \n",
       "\n",
       "        B  LSTAT  MEDV  Railway_Index  \n",
       "0  396.90   4.98  24.0              0  \n",
       "1  396.90   9.14  21.6              0  \n",
       "2  392.83   4.03  34.7              0  \n",
       "3  394.63   2.94  33.4              0  \n",
       "5  394.12   5.21  28.7              0  "
      ]
     },
     "metadata": {},
     "execution_count": 17
    }
   ],
   "metadata": {
    "execution": {
     "iopub.execute_input": "2021-08-27T17:17:22.008577Z",
     "iopub.status.busy": "2021-08-27T17:17:21.990218Z",
     "iopub.status.idle": "2021-08-27T17:17:22.011321Z",
     "shell.execute_reply": "2021-08-27T17:17:22.011917Z",
     "shell.execute_reply.started": "2021-08-27T16:58:21.985283Z"
    },
    "papermill": {
     "duration": 0.060503,
     "end_time": "2021-08-27T17:17:22.012085",
     "exception": false,
     "start_time": "2021-08-27T17:17:21.951582",
     "status": "completed"
    },
    "tags": []
   }
  },
  {
   "cell_type": "code",
   "execution_count": 18,
   "source": [
    "#X=feature\n",
    "#y=our good houses\n",
    "X=house.drop(\"Railway_Index\",axis=1)\n",
    "y=house['Railway_Index']"
   ],
   "outputs": [],
   "metadata": {
    "execution": {
     "iopub.execute_input": "2021-08-27T17:17:22.084644Z",
     "iopub.status.busy": "2021-08-27T17:17:22.083990Z",
     "iopub.status.idle": "2021-08-27T17:17:22.089078Z",
     "shell.execute_reply": "2021-08-27T17:17:22.089587Z",
     "shell.execute_reply.started": "2021-08-27T16:58:22.015206Z"
    },
    "papermill": {
     "duration": 0.04286,
     "end_time": "2021-08-27T17:17:22.089766",
     "exception": false,
     "start_time": "2021-08-27T17:17:22.046906",
     "status": "completed"
    },
    "tags": []
   }
  },
  {
   "cell_type": "code",
   "execution_count": 19,
   "source": [
    "X_train, X_test, y_train , y_test= train_test_split(X,y,test_size=0.25,random_state=42)\n",
    "#split data into test abd train in ratio 25/75"
   ],
   "outputs": [],
   "metadata": {
    "execution": {
     "iopub.execute_input": "2021-08-27T17:17:22.162065Z",
     "iopub.status.busy": "2021-08-27T17:17:22.161440Z",
     "iopub.status.idle": "2021-08-27T17:17:22.167638Z",
     "shell.execute_reply": "2021-08-27T17:17:22.168096Z",
     "shell.execute_reply.started": "2021-08-27T16:58:22.024191Z"
    },
    "papermill": {
     "duration": 0.044048,
     "end_time": "2021-08-27T17:17:22.168269",
     "exception": false,
     "start_time": "2021-08-27T17:17:22.124221",
     "status": "completed"
    },
    "tags": []
   }
  },
  {
   "cell_type": "code",
   "execution_count": 20,
   "source": [
    "#apply standar feature scaling to get optimized result\n",
    "sc=StandardScaler()\n",
    "X_train=sc.fit_transform(X_train)\n",
    "X_test=sc.transform(X_test)"
   ],
   "outputs": [],
   "metadata": {
    "execution": {
     "iopub.execute_input": "2021-08-27T17:17:22.244424Z",
     "iopub.status.busy": "2021-08-27T17:17:22.243767Z",
     "iopub.status.idle": "2021-08-27T17:17:22.250158Z",
     "shell.execute_reply": "2021-08-27T17:17:22.250651Z",
     "shell.execute_reply.started": "2021-08-27T16:58:22.039643Z"
    },
    "papermill": {
     "duration": 0.047912,
     "end_time": "2021-08-27T17:17:22.250816",
     "exception": false,
     "start_time": "2021-08-27T17:17:22.202904",
     "status": "completed"
    },
    "tags": []
   }
  },
  {
   "cell_type": "code",
   "execution_count": 21,
   "source": [
    "X_train[:10]"
   ],
   "outputs": [
    {
     "output_type": "execute_result",
     "data": {
      "text/plain": [
       "array([[-2.88669541e-01, -4.82423854e-01, -4.46827482e-01,\n",
       "        -2.69679945e-01, -1.64135928e-01, -9.79778908e-01,\n",
       "         1.00392518e+00,  5.21079877e-03, -6.62692998e-01,\n",
       "        -6.10461677e-01,  1.12203354e+00,  2.34452746e-01,\n",
       "         1.04275104e+00, -9.23745348e-01],\n",
       "       [-4.07970907e-01, -4.82423854e-01,  2.41447026e-01,\n",
       "        -2.69679945e-01, -1.02786429e+00, -2.94740962e-02,\n",
       "        -5.53305548e-01,  5.83366777e-01, -5.48568985e-01,\n",
       "        -8.05394872e-02,  4.55350149e-02,  3.36972130e-01,\n",
       "        -1.04456554e-01, -6.60665183e-02],\n",
       "       [-4.10462071e-01,  3.55096771e+00, -1.42567417e+00,\n",
       "        -2.69679945e-01, -1.31862433e+00,  1.03710668e+00,\n",
       "        -1.90009969e+00,  1.83803466e+00, -7.76817011e-01,\n",
       "        -5.72462041e-02, -7.50137807e-01,  4.46479101e-01,\n",
       "        -1.13271405e+00,  1.48001243e+00],\n",
       "       [-3.91160546e-01,  4.82855618e-02, -4.86450961e-01,\n",
       "        -2.69679945e-01, -2.83860652e-01,  1.78674239e-01,\n",
       "         8.70648673e-01,  1.21685688e+00, -5.48568985e-01,\n",
       "        -5.87168394e-01, -1.59261491e+00,  4.00799051e-01,\n",
       "         9.67415982e-01, -7.65751880e-01],\n",
       "       [-3.14954507e-01, -4.82423854e-01, -4.46827482e-01,\n",
       "        -2.69679945e-01, -1.64135928e-01, -6.30951009e-01,\n",
       "         1.07056343e+00,  1.46540985e-01, -6.62692998e-01,\n",
       "        -6.10461677e-01,  1.12203354e+00,  4.21866106e-01,\n",
       "         8.92080921e-01, -8.22178119e-01],\n",
       "       [ 2.81259894e-01, -4.82423854e-01,  1.01483864e+00,\n",
       "        -2.69679945e-01,  1.22125016e+00, -7.74501585e-01,\n",
       "         9.65345136e-01, -8.84413521e-01,  1.61978726e+00,\n",
       "         1.48011048e+00,  7.47599270e-01,  4.20718890e-01,\n",
       "         5.25978958e-01, -7.54466632e-01],\n",
       "       [ 3.37536628e-01, -4.82423854e-01,  1.01483864e+00,\n",
       "        -2.69679945e-01,  1.33242311e+00,  2.36094469e-01,\n",
       "         1.01093973e+00, -7.61528042e-01,  1.61978726e+00,\n",
       "         1.48011048e+00,  7.47599270e-01, -5.20206725e-01,\n",
       "         8.16745860e-01, -9.91456835e-01],\n",
       "       [-1.32314118e-01, -4.82423854e-01,  1.01483864e+00,\n",
       "        -2.69679945e-01, -2.15446524e-01, -7.04161803e-01,\n",
       "        -1.02328059e+00,  1.48014660e-01,  1.61978726e+00,\n",
       "         1.48011048e+00,  7.47599270e-01,  4.04970745e-01,\n",
       "        -3.58216759e-01,  1.64496832e-03],\n",
       "       [-8.21445265e-02, -4.82423854e-01,  1.23203400e+00,\n",
       "         3.70809924e+00,  2.68360214e+00, -1.21950837e+00,\n",
       "         1.07056343e+00, -1.17197030e+00, -5.48568985e-01,\n",
       "        -5.14228834e-02, -1.82663633e+00,  4.46479101e-01,\n",
       "         1.80931833e+00, -9.46315844e-01],\n",
       "       [-3.82134072e-01, -4.82423854e-01, -7.31529517e-01,\n",
       "        -2.69679945e-01, -4.54895971e-01,  2.89034462e+00,\n",
       "         3.09484448e-01, -4.24294156e-01, -2.06196946e-01,\n",
       "        -6.10461677e-01, -5.62920672e-01,  3.22892662e-01,\n",
       "        -1.18822410e+00,  2.59725195e+00]])"
      ]
     },
     "metadata": {},
     "execution_count": 21
    }
   ],
   "metadata": {
    "execution": {
     "iopub.execute_input": "2021-08-27T17:17:22.322984Z",
     "iopub.status.busy": "2021-08-27T17:17:22.322366Z",
     "iopub.status.idle": "2021-08-27T17:17:22.329318Z",
     "shell.execute_reply": "2021-08-27T17:17:22.329911Z",
     "shell.execute_reply.started": "2021-08-27T16:58:22.060872Z"
    },
    "papermill": {
     "duration": 0.044575,
     "end_time": "2021-08-27T17:17:22.330075",
     "exception": false,
     "start_time": "2021-08-27T17:17:22.285500",
     "status": "completed"
    },
    "tags": []
   }
  },
  {
   "cell_type": "markdown",
   "source": [
    "# RFC Classifier"
   ],
   "metadata": {
    "papermill": {
     "duration": 0.034671,
     "end_time": "2021-08-27T17:17:22.399764",
     "exception": false,
     "start_time": "2021-08-27T17:17:22.365093",
     "status": "completed"
    },
    "tags": []
   }
  },
  {
   "cell_type": "code",
   "execution_count": 22,
   "source": [
    "rfc=RandomForestClassifier(n_estimators=100)\n",
    "rfc.fit(X_train, y_train)\n",
    "pred_rfc=rfc.predict(X_test)\n",
    "pred_rfc[:20]"
   ],
   "outputs": [
    {
     "output_type": "execute_result",
     "data": {
      "text/plain": [
       "array([0, 0, 0, 0, 1, 1, 0, 1, 1, 0, 1, 1, 0, 0, 1, 0, 1, 0, 1, 1])"
      ]
     },
     "metadata": {},
     "execution_count": 22
    }
   ],
   "metadata": {
    "execution": {
     "iopub.execute_input": "2021-08-27T17:17:22.472733Z",
     "iopub.status.busy": "2021-08-27T17:17:22.472131Z",
     "iopub.status.idle": "2021-08-27T17:17:22.684026Z",
     "shell.execute_reply": "2021-08-27T17:17:22.683502Z",
     "shell.execute_reply.started": "2021-08-27T16:58:22.071979Z"
    },
    "papermill": {
     "duration": 0.249393,
     "end_time": "2021-08-27T17:17:22.684169",
     "exception": false,
     "start_time": "2021-08-27T17:17:22.434776",
     "status": "completed"
    },
    "tags": []
   }
  },
  {
   "cell_type": "code",
   "execution_count": 23,
   "source": [
    "print(classification_report(y_test,pred_rfc))\n",
    "print(confusion_matrix(y_test,pred_rfc))"
   ],
   "outputs": [
    {
     "output_type": "stream",
     "name": "stdout",
     "text": [
      "              precision    recall  f1-score   support\n",
      "\n",
      "           0       1.00      1.00      1.00        46\n",
      "           1       1.00      1.00      1.00        53\n",
      "\n",
      "    accuracy                           1.00        99\n",
      "   macro avg       1.00      1.00      1.00        99\n",
      "weighted avg       1.00      1.00      1.00        99\n",
      "\n",
      "[[46  0]\n",
      " [ 0 53]]\n"
     ]
    }
   ],
   "metadata": {
    "execution": {
     "iopub.execute_input": "2021-08-27T17:17:22.760181Z",
     "iopub.status.busy": "2021-08-27T17:17:22.759546Z",
     "iopub.status.idle": "2021-08-27T17:17:22.769973Z",
     "shell.execute_reply": "2021-08-27T17:17:22.769348Z",
     "shell.execute_reply.started": "2021-08-27T16:58:22.295453Z"
    },
    "papermill": {
     "duration": 0.050395,
     "end_time": "2021-08-27T17:17:22.770103",
     "exception": false,
     "start_time": "2021-08-27T17:17:22.719708",
     "status": "completed"
    },
    "tags": []
   }
  },
  {
   "cell_type": "markdown",
   "source": [
    "# SVM classifier"
   ],
   "metadata": {
    "papermill": {
     "duration": 0.035602,
     "end_time": "2021-08-27T17:17:22.842307",
     "exception": false,
     "start_time": "2021-08-27T17:17:22.806705",
     "status": "completed"
    },
    "tags": []
   }
  },
  {
   "cell_type": "code",
   "execution_count": 24,
   "source": [
    "clf=SVC()\n",
    "clf.fit(X_train,y_train)\n",
    "pred_clf=clf.predict(X_test)"
   ],
   "outputs": [],
   "metadata": {
    "execution": {
     "iopub.execute_input": "2021-08-27T17:17:22.920535Z",
     "iopub.status.busy": "2021-08-27T17:17:22.919890Z",
     "iopub.status.idle": "2021-08-27T17:17:22.928101Z",
     "shell.execute_reply": "2021-08-27T17:17:22.927602Z",
     "shell.execute_reply.started": "2021-08-27T16:58:22.316068Z"
    },
    "papermill": {
     "duration": 0.049889,
     "end_time": "2021-08-27T17:17:22.928236",
     "exception": false,
     "start_time": "2021-08-27T17:17:22.878347",
     "status": "completed"
    },
    "tags": []
   }
  },
  {
   "cell_type": "code",
   "execution_count": 25,
   "source": [
    "print(classification_report(y_test,pred_clf))\n",
    "print(confusion_matrix(y_test,pred_clf))"
   ],
   "outputs": [
    {
     "output_type": "stream",
     "name": "stdout",
     "text": [
      "              precision    recall  f1-score   support\n",
      "\n",
      "           0       0.84      0.89      0.86        46\n",
      "           1       0.90      0.85      0.87        53\n",
      "\n",
      "    accuracy                           0.87        99\n",
      "   macro avg       0.87      0.87      0.87        99\n",
      "weighted avg       0.87      0.87      0.87        99\n",
      "\n",
      "[[41  5]\n",
      " [ 8 45]]\n"
     ]
    }
   ],
   "metadata": {
    "execution": {
     "iopub.execute_input": "2021-08-27T17:17:23.005397Z",
     "iopub.status.busy": "2021-08-27T17:17:23.004720Z",
     "iopub.status.idle": "2021-08-27T17:17:23.014210Z",
     "shell.execute_reply": "2021-08-27T17:17:23.013378Z",
     "shell.execute_reply.started": "2021-08-27T16:58:22.334564Z"
    },
    "papermill": {
     "duration": 0.05033,
     "end_time": "2021-08-27T17:17:23.014397",
     "exception": false,
     "start_time": "2021-08-27T17:17:22.964067",
     "status": "completed"
    },
    "tags": []
   }
  },
  {
   "cell_type": "markdown",
   "source": [
    "# Neural Model"
   ],
   "metadata": {
    "papermill": {
     "duration": 0.036431,
     "end_time": "2021-08-27T17:17:23.087572",
     "exception": false,
     "start_time": "2021-08-27T17:17:23.051141",
     "status": "completed"
    },
    "tags": []
   }
  },
  {
   "cell_type": "code",
   "execution_count": 26,
   "source": [
    "mlpc=MLPClassifier(hidden_layer_sizes=(14,14,14),max_iter=1100)\n",
    "mlpc.fit(X_train, y_train)\n",
    "pred_mlpc=mlpc.predict(X_test)"
   ],
   "outputs": [],
   "metadata": {
    "execution": {
     "iopub.execute_input": "2021-08-27T17:17:23.166870Z",
     "iopub.status.busy": "2021-08-27T17:17:23.166015Z",
     "iopub.status.idle": "2021-08-27T17:17:23.994957Z",
     "shell.execute_reply": "2021-08-27T17:17:23.994330Z",
     "shell.execute_reply.started": "2021-08-27T17:07:11.922849Z"
    },
    "papermill": {
     "duration": 0.871239,
     "end_time": "2021-08-27T17:17:23.995096",
     "exception": false,
     "start_time": "2021-08-27T17:17:23.123857",
     "status": "completed"
    },
    "tags": []
   }
  },
  {
   "cell_type": "code",
   "execution_count": 27,
   "source": [
    "print(classification_report(y_test,pred_mlpc))\n",
    "print(confusion_matrix(y_test,pred_mlpc))"
   ],
   "outputs": [
    {
     "output_type": "stream",
     "name": "stdout",
     "text": [
      "              precision    recall  f1-score   support\n",
      "\n",
      "           0       0.98      0.93      0.96        46\n",
      "           1       0.95      0.98      0.96        53\n",
      "\n",
      "    accuracy                           0.96        99\n",
      "   macro avg       0.96      0.96      0.96        99\n",
      "weighted avg       0.96      0.96      0.96        99\n",
      "\n",
      "[[43  3]\n",
      " [ 1 52]]\n"
     ]
    }
   ],
   "metadata": {
    "execution": {
     "iopub.execute_input": "2021-08-27T17:17:24.081310Z",
     "iopub.status.busy": "2021-08-27T17:17:24.080222Z",
     "iopub.status.idle": "2021-08-27T17:17:24.090212Z",
     "shell.execute_reply": "2021-08-27T17:17:24.089364Z",
     "shell.execute_reply.started": "2021-08-27T17:07:14.596865Z"
    },
    "papermill": {
     "duration": 0.058693,
     "end_time": "2021-08-27T17:17:24.090381",
     "exception": false,
     "start_time": "2021-08-27T17:17:24.031688",
     "status": "completed"
    },
    "tags": []
   }
  },
  {
   "cell_type": "code",
   "execution_count": 28,
   "source": [
    "from sklearn.metrics import accuracy_score\n",
    "cm=accuracy_score(y_test,pred_rfc)\n",
    "cm"
   ],
   "outputs": [
    {
     "output_type": "execute_result",
     "data": {
      "text/plain": [
       "1.0"
      ]
     },
     "metadata": {},
     "execution_count": 28
    }
   ],
   "metadata": {
    "execution": {
     "iopub.execute_input": "2021-08-27T17:17:24.181896Z",
     "iopub.status.busy": "2021-08-27T17:17:24.181118Z",
     "iopub.status.idle": "2021-08-27T17:17:24.186058Z",
     "shell.execute_reply": "2021-08-27T17:17:24.185517Z",
     "shell.execute_reply.started": "2021-08-27T17:09:28.916610Z"
    },
    "papermill": {
     "duration": 0.05493,
     "end_time": "2021-08-27T17:17:24.186202",
     "exception": false,
     "start_time": "2021-08-27T17:17:24.131272",
     "status": "completed"
    },
    "tags": []
   }
  },
  {
   "cell_type": "code",
   "execution_count": null,
   "source": [],
   "outputs": [],
   "metadata": {
    "papermill": {
     "duration": 0.037981,
     "end_time": "2021-08-27T17:17:24.262324",
     "exception": false,
     "start_time": "2021-08-27T17:17:24.224343",
     "status": "completed"
    },
    "tags": []
   }
  }
 ],
 "metadata": {
  "kernelspec": {
   "display_name": "Python 3",
   "language": "python",
   "name": "python3"
  },
  "language_info": {
   "codemirror_mode": {
    "name": "ipython",
    "version": 3
   },
   "file_extension": ".py",
   "mimetype": "text/x-python",
   "name": "python",
   "nbconvert_exporter": "python",
   "pygments_lexer": "ipython3",
   "version": "3.7.10"
  },
  "papermill": {
   "default_parameters": {},
   "duration": 14.792763,
   "end_time": "2021-08-27T17:17:25.781917",
   "environment_variables": {},
   "exception": null,
   "input_path": "__notebook__.ipynb",
   "output_path": "__notebook__.ipynb",
   "parameters": {},
   "start_time": "2021-08-27T17:17:10.989154",
   "version": "2.3.3"
  }
 },
 "nbformat": 4,
 "nbformat_minor": 5
}