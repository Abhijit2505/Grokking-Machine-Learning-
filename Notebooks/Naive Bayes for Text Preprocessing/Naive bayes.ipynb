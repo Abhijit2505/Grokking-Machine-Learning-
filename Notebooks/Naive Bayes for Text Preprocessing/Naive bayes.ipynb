{
 "cells": [
  {
   "cell_type": "code",
   "execution_count": 1,
   "metadata": {},
   "outputs": [],
   "source": [
    "import pandas as pd\n",
    "from sklearn.model_selection import train_test_split\n",
    "from sklearn.feature_extraction.text import CountVectorizer\n",
    "from sklearn.naive_bayes import MultinomialNB\n",
    "from sklearn import metrics"
   ]
  },
  {
   "cell_type": "code",
   "execution_count": 2,
   "metadata": {},
   "outputs": [
    {
     "name": "stdout",
     "output_type": "stream",
     "text": [
      "The dimensions of the dataset (18, 2)\n"
     ]
    }
   ],
   "source": [
    "msg = pd.read_csv(\"naivetext.csv\", names=[\"message\", \"label\"])\n",
    "print(\"The dimensions of the dataset\", msg.shape)\n",
    "msg[\"labelnum\"] = msg.label.map({\"pos\": 1, \"neg\": 0})\n",
    "X = msg.message\n",
    "y = msg.labelnum"
   ]
  },
  {
   "cell_type": "code",
   "execution_count": 3,
   "metadata": {},
   "outputs": [
    {
     "name": "stdout",
     "output_type": "stream",
     "text": [
      "(5,)\n",
      "(13,)\n",
      "(5,)\n",
      "(13,)\n",
      "train data\n",
      "2        I feel very good about these beers\n",
      "4                      What an awesome view\n",
      "7                    I can't deal with this\n",
      "12                          I love to dance\n",
      "1                  This is an amazing place\n",
      "16           We will have good fun tomorrow\n",
      "9                       My boss is horrible\n",
      "0                      I love this sandwich\n",
      "15           That is a bad locality to stay\n",
      "14                     What a great holiday\n",
      "17         I went to my enemy's house today\n",
      "11    I do not like the taste of this juice\n",
      "5             I do not like this restaurant\n",
      "Name: message, dtype: object\n"
     ]
    }
   ],
   "source": [
    "xtrain, xtest, ytrain, ytest = train_test_split(X, y)\n",
    "print(xtest.shape)\n",
    "print(xtrain.shape)\n",
    "print(ytest.shape)\n",
    "print(ytrain.shape)\n",
    "print(\"train data\")\n",
    "print(xtrain)"
   ]
  },
  {
   "cell_type": "code",
   "execution_count": 4,
   "metadata": {},
   "outputs": [
    {
     "name": "stdout",
     "output_type": "stream",
     "text": [
      "['about', 'amazing', 'an', 'awesome', 'bad', 'beers', 'boss', 'can', 'dance', 'deal', 'do', 'enemy', 'feel', 'fun', 'good', 'great', 'have', 'holiday', 'horrible', 'house', 'is', 'juice', 'like', 'locality', 'love', 'my', 'not', 'of', 'place', 'restaurant', 'sandwich', 'stay', 'taste', 'that', 'the', 'these', 'this', 'to', 'today', 'tomorrow', 'very', 'view', 'we', 'went', 'what', 'will', 'with']\n",
      "    about  amazing  an  awesome  bad  beers  boss  can  dance  deal  ...  to  \\\n",
      "0       1        0   0        0    0      1     0    0      0     0  ...   0   \n",
      "1       0        0   1        1    0      0     0    0      0     0  ...   0   \n",
      "2       0        0   0        0    0      0     0    1      0     1  ...   0   \n",
      "3       0        0   0        0    0      0     0    0      1     0  ...   1   \n",
      "4       0        1   1        0    0      0     0    0      0     0  ...   0   \n",
      "5       0        0   0        0    0      0     0    0      0     0  ...   0   \n",
      "6       0        0   0        0    0      0     1    0      0     0  ...   0   \n",
      "7       0        0   0        0    0      0     0    0      0     0  ...   0   \n",
      "8       0        0   0        0    1      0     0    0      0     0  ...   1   \n",
      "9       0        0   0        0    0      0     0    0      0     0  ...   0   \n",
      "10      0        0   0        0    0      0     0    0      0     0  ...   1   \n",
      "11      0        0   0        0    0      0     0    0      0     0  ...   0   \n",
      "12      0        0   0        0    0      0     0    0      0     0  ...   0   \n",
      "\n",
      "    today  tomorrow  very  view  we  went  what  will  with  \n",
      "0       0         0     1     0   0     0     0     0     0  \n",
      "1       0         0     0     1   0     0     1     0     0  \n",
      "2       0         0     0     0   0     0     0     0     1  \n",
      "3       0         0     0     0   0     0     0     0     0  \n",
      "4       0         0     0     0   0     0     0     0     0  \n",
      "5       0         1     0     0   1     0     0     1     0  \n",
      "6       0         0     0     0   0     0     0     0     0  \n",
      "7       0         0     0     0   0     0     0     0     0  \n",
      "8       0         0     0     0   0     0     0     0     0  \n",
      "9       0         0     0     0   0     0     1     0     0  \n",
      "10      1         0     0     0   0     1     0     0     0  \n",
      "11      0         0     0     0   0     0     0     0     0  \n",
      "12      0         0     0     0   0     0     0     0     0  \n",
      "\n",
      "[13 rows x 47 columns]\n",
      "  (0, 12)\t1\n",
      "  (0, 40)\t1\n",
      "  (0, 14)\t1\n",
      "  (0, 0)\t1\n",
      "  (0, 35)\t1\n",
      "  (0, 5)\t1\n",
      "  (1, 44)\t1\n",
      "  (1, 2)\t1\n",
      "  (1, 3)\t1\n",
      "  (1, 41)\t1\n",
      "  (2, 7)\t1\n",
      "  (2, 9)\t1\n",
      "  (2, 46)\t1\n",
      "  (2, 36)\t1\n",
      "  (3, 24)\t1\n",
      "  (3, 37)\t1\n",
      "  (3, 8)\t1\n",
      "  (4, 2)\t1\n",
      "  (4, 36)\t1\n",
      "  (4, 20)\t1\n",
      "  (4, 1)\t1\n",
      "  (4, 28)\t1\n",
      "  (5, 14)\t1\n",
      "  (5, 42)\t1\n",
      "  (5, 45)\t1\n",
      "  :\t:\n",
      "  (8, 4)\t1\n",
      "  (8, 23)\t1\n",
      "  (8, 31)\t1\n",
      "  (9, 44)\t1\n",
      "  (9, 15)\t1\n",
      "  (9, 17)\t1\n",
      "  (10, 37)\t1\n",
      "  (10, 25)\t1\n",
      "  (10, 43)\t1\n",
      "  (10, 11)\t1\n",
      "  (10, 19)\t1\n",
      "  (10, 38)\t1\n",
      "  (11, 36)\t1\n",
      "  (11, 10)\t1\n",
      "  (11, 26)\t1\n",
      "  (11, 22)\t1\n",
      "  (11, 34)\t1\n",
      "  (11, 32)\t1\n",
      "  (11, 27)\t1\n",
      "  (11, 21)\t1\n",
      "  (12, 36)\t1\n",
      "  (12, 10)\t1\n",
      "  (12, 26)\t1\n",
      "  (12, 22)\t1\n",
      "  (12, 29)\t1\n"
     ]
    }
   ],
   "source": [
    "# Output of the count vectoriser is a sparse matrix.\n",
    "count_vect = CountVectorizer()\n",
    "xtrain_dtm = count_vect.fit_transform(xtrain)\n",
    "xtest_dtm = count_vect.transform(xtest)\n",
    "print(count_vect.get_feature_names())\n",
    "df = pd.DataFrame(xtrain_dtm.toarray(), columns=count_vect.get_feature_names())\n",
    "print(df)  # Tabular representation.\n",
    "print(xtrain_dtm)  # Sparse matrix representation."
   ]
  },
  {
   "cell_type": "code",
   "execution_count": 5,
   "metadata": {},
   "outputs": [],
   "source": [
    "# Training Naive Bayes (NB) classifier on training data.\n",
    "clf = MultinomialNB().fit(xtrain_dtm, ytrain)\n",
    "predicted = clf.predict(xtest_dtm)"
   ]
  },
  {
   "cell_type": "code",
   "execution_count": 6,
   "metadata": {},
   "outputs": [
    {
     "name": "stdout",
     "output_type": "stream",
     "text": [
      "Accuracy metrics\n",
      "Accuracy of the classifer is 0.8\n",
      "Confusion matrix\n",
      "[[3 0]\n",
      " [1 1]]\n",
      "Recall and Precison \n",
      "0.5\n",
      "1.0\n"
     ]
    }
   ],
   "source": [
    "# Printing the accuracy metrics.\n",
    "print(\"Accuracy metrics\")\n",
    "print(\"Accuracy of the classifer is\", metrics.accuracy_score(ytest, predicted))\n",
    "print(\"Confusion matrix\")\n",
    "print(metrics.confusion_matrix(ytest, predicted))\n",
    "print(\"Recall and Precison \")\n",
    "print(metrics.recall_score(ytest, predicted))\n",
    "print(metrics.precision_score(ytest, predicted))"
   ]
  },
  {
   "cell_type": "code",
   "execution_count": 7,
   "metadata": {},
   "outputs": [
    {
     "data": {
      "text/plain": [
       "\"docs_new = ['I like this place', 'My boss is not my saviour']\\nX_new_counts = count_vect.transform(docs_new)\\npredictednew = clf.predict(X_new_counts)\\nfor doc, category in zip(docs_new, predictednew):\\nprint('%s-&gt;%s' % (doc, msg.labelnum[category]))\""
      ]
     },
     "execution_count": 7,
     "metadata": {},
     "output_type": "execute_result"
    }
   ],
   "source": [
    "\"\"\"docs_new = ['I like this place', 'My boss is not my saviour']\n",
    "X_new_counts = count_vect.transform(docs_new)\n",
    "predictednew = clf.predict(X_new_counts)\n",
    "for doc, category in zip(docs_new, predictednew):\n",
    "print('%s-&gt;%s' % (doc, msg.labelnum[category]))\"\"\""
   ]
  },
  {
   "cell_type": "code",
   "execution_count": null,
   "metadata": {},
   "outputs": [],
   "source": []
  }
 ],
 "metadata": {
  "kernelspec": {
   "display_name": "Python 3",
   "language": "python",
   "name": "python3"
  },
  "language_info": {
   "codemirror_mode": {
    "name": "ipython",
    "version": 3
   },
   "file_extension": ".py",
   "mimetype": "text/x-python",
   "name": "python",
   "nbconvert_exporter": "python",
   "pygments_lexer": "ipython3",
   "version": "3.7.3"
  }
 },
 "nbformat": 4,
 "nbformat_minor": 2
}
